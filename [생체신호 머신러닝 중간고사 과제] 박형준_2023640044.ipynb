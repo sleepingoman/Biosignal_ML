{
 "cells": [
  {
   "cell_type": "markdown",
   "id": "6779df75",
   "metadata": {},
   "source": [
    "# 2023학년 1학기 생체신호 머신러닝 알고리즘 중간고사 과제"
   ]
  },
  {
   "cell_type": "markdown",
   "id": "880a1006",
   "metadata": {},
   "source": [
    "- 미국 American Univ.에서 10명의 교환학생이 고려대학교 KU-KIST 융합대학원에서 Kevin 교수님의 강의를 들었고, 채점결과는 다음과 같습니다.\n",
    "- 여학생 중에는 Ellie 87점, Laura 88점, Nina 65점, Audrie 74점, Bridget 97점, 남학생 중에는 Jordan 69점, Jason 53점, Aiden 77점, Lukas 94점, Nate 81점 "
   ]
  },
  {
   "cell_type": "markdown",
   "id": "c296c37e",
   "metadata": {},
   "source": [
    "<머신러닝 초보자>\n",
    "- 위 학생들을 성적 순으로 배열하여 출력할 수 있도록, 1. 넘파이만을 이용하여, 2. 판다스를 이용하여 각각 코드를 작성하시오."
   ]
  },
  {
   "cell_type": "markdown",
   "id": "59ab15e0",
   "metadata": {},
   "source": [
    "<머신러닝 유경험자>\n",
    "1. 위 학생들을 성적순으로 배열하고 학점을 부여하도록 넘파이를 이용하여 코드를 작성하시오.\n",
    "2. 위 학생들을 성적 데이터를 csv 파일이나 엑셀 파일로 만들고, 판다스에서 파일을 읽어서 성적순 배열, 학점 부여, 남여 성별에 따른 평균 등 통계치 비교를 할 수 있는 코드를 작성하시오. "
   ]
  },
  {
   "cell_type": "markdown",
   "id": "0ba1fc62",
   "metadata": {},
   "source": [
    "** 주의사항 **\n",
    "\n",
    "1. 제출기한: 2023년 4월 24일 13시 정각까지. 늦으면 지각처리하며, 24일 18시 정각까지 제출되지 않으면 결석처리되고, 24일 24시 정각까지 도착하지 않은 과제는 0점 처리됩니다.\n",
    "2. 제출하는 곳: kwanhyi@korea.ac.kr 이메일로 주피터노트북 파일과 엑셀 또는 csv 데이터 파일 제출\n",
    "3. 이메일 제목: [생체신호 머신러닝 중간고사 과제 제출] 김**_2023640000\n",
    "4. 주피터노트북 파일명: [생체신호 머신러닝 중간고사 과제] 김**_2023640000.ipynb\n",
    "5. 데이터 파일명: 김**_2023640000.csv or .xlsx"
   ]
  },
  {
   "cell_type": "code",
   "execution_count": 1,
   "id": "2f67f753",
   "metadata": {},
   "outputs": [],
   "source": [
    "# 여기에 코드를 작성하세요."
   ]
  },
  {
   "cell_type": "markdown",
   "id": "931539a7",
   "metadata": {},
   "source": [
    "### 1. 넘파이를 이용한 성적 배열 및 학점 부여"
   ]
  },
  {
   "cell_type": "markdown",
   "id": "7bd359f6",
   "metadata": {},
   "source": [
    "* 넘파이 불러오기"
   ]
  },
  {
   "cell_type": "code",
   "execution_count": 2,
   "id": "552aa9b6",
   "metadata": {},
   "outputs": [],
   "source": [
    "import numpy as np"
   ]
  },
  {
   "cell_type": "markdown",
   "id": "ec19d60b",
   "metadata": {},
   "source": [
    "* 이름, 점수 리스트 생성"
   ]
  },
  {
   "cell_type": "code",
   "execution_count": 3,
   "id": "8e400488",
   "metadata": {},
   "outputs": [
    {
     "name": "stdout",
     "output_type": "stream",
     "text": [
      "['Ellie', 'Laura', 'Nina', 'Audrie', 'Bridget', 'Jordan', 'Jason', 'Aiden', 'Lukas', 'Nate']\n",
      "[87, 88, 65, 74, 97, 69, 53, 77, 94, 81]\n",
      "<class 'list'>\n",
      "<class 'list'>\n"
     ]
    }
   ],
   "source": [
    "name = ['Ellie', 'Laura', 'Nina', 'Audrie', 'Bridget', 'Jordan', 'Jason', 'Aiden', 'Lukas', 'Nate']\n",
    "score = [87, 88, 65, 74, 97, 69, 53, 77, 94, 81]\n",
    "\n",
    "print(name)\n",
    "print(score)\n",
    "print(type(name))\n",
    "print(type(score))"
   ]
  },
  {
   "cell_type": "markdown",
   "id": "b6211aeb",
   "metadata": {},
   "source": [
    "* 이름 list를 array로 변환"
   ]
  },
  {
   "cell_type": "code",
   "execution_count": 4,
   "id": "1d0e5027",
   "metadata": {},
   "outputs": [
    {
     "name": "stdout",
     "output_type": "stream",
     "text": [
      "['Ellie' 'Laura' 'Nina' 'Audrie' 'Bridget' 'Jordan' 'Jason' 'Aiden'\n",
      " 'Lukas' 'Nate']\n",
      "<U7\n"
     ]
    }
   ],
   "source": [
    "name_ar = np.array(name)\n",
    "print(name_ar)\n",
    "print(name_ar.dtype)"
   ]
  },
  {
   "cell_type": "markdown",
   "id": "9cc3d8e8",
   "metadata": {},
   "source": [
    "* 성적 array 변환 및 argsort로 성적 내림차순 인덱싱 array 생성\n",
    "\n"
   ]
  },
  {
   "cell_type": "code",
   "execution_count": 5,
   "id": "87649184",
   "metadata": {},
   "outputs": [
    {
     "name": "stdout",
     "output_type": "stream",
     "text": [
      "[87 88 65 74 97 69 53 77 94 81]\n",
      "int32\n",
      "[4 8 1 0 9 7 3 5 2 6]\n"
     ]
    }
   ],
   "source": [
    "score_ar = np.array(score)\n",
    "print(score_ar)\n",
    "print(score_ar.dtype)\n",
    "srt_indices = np.argsort(score_ar)[::-1]\n",
    "print(srt_indices)"
   ]
  },
  {
   "cell_type": "markdown",
   "id": "98d9762b",
   "metadata": {},
   "source": [
    "* argsort 결과(성적순)에 따라 이름 array와 성적 array 배열"
   ]
  },
  {
   "cell_type": "code",
   "execution_count": 6,
   "id": "9b799eda",
   "metadata": {},
   "outputs": [
    {
     "name": "stdout",
     "output_type": "stream",
     "text": [
      "['Bridget' 'Lukas' 'Laura' 'Ellie' 'Nate' 'Aiden' 'Audrie' 'Jordan' 'Nina'\n",
      " 'Jason']\n",
      "[97 94 88 87 81 77 74 69 65 53]\n"
     ]
    }
   ],
   "source": [
    "name_ar_srt = name_ar[srt_indices]\n",
    "score_ar_srt = score_ar[srt_indices]\n",
    "\n",
    "print(name_ar_srt)\n",
    "print(score_ar_srt)"
   ]
  },
  {
   "cell_type": "markdown",
   "id": "d2e3f066",
   "metadata": {},
   "source": [
    "* 고려대학교 상대 평가 성적비율\n",
    "* A+, A : 0 ~ 35% / B+, B : 0 ~ 70% / C+ 이하 : 30% 이상\n",
    "* 이에 따라 1등 A+, 2 ~ 3등 A / 4 ~ 5등 B+, 6 ~ 7등 B / 8 ~ 9등 C+ / 10등 F로 설정\n",
    "* 학점 표기 array 생성"
   ]
  },
  {
   "cell_type": "code",
   "execution_count": 7,
   "id": "c7f3cae4",
   "metadata": {},
   "outputs": [
    {
     "name": "stdout",
     "output_type": "stream",
     "text": [
      "['A+' 'A' 'A' 'B+' 'B+' 'B' 'B' 'C+' 'C+' 'F']\n"
     ]
    }
   ],
   "source": [
    "grade_ar = np.array(['A+', 'A', 'A', 'B+', 'B+', 'B', 'B', 'C+', 'C+', 'F'])\n",
    "print(grade_ar)"
   ]
  },
  {
   "cell_type": "markdown",
   "id": "a074f2e0",
   "metadata": {},
   "source": [
    "* 성적순으로 나열된 이름 array와 학점 array 합쳐서 성적부여 및 행렬 전치"
   ]
  },
  {
   "cell_type": "code",
   "execution_count": 8,
   "id": "d3ea34d9",
   "metadata": {},
   "outputs": [
    {
     "name": "stdout",
     "output_type": "stream",
     "text": [
      "[['Bridget' 'Lukas' 'Laura' 'Ellie' 'Nate' 'Aiden' 'Audrie' 'Jordan'\n",
      "  'Nina' 'Jason']\n",
      " ['A+' 'A' 'A' 'B+' 'B+' 'B' 'B' 'C+' 'C+' 'F']]\n",
      "[['Bridget' 'A+']\n",
      " ['Lukas' 'A']\n",
      " ['Laura' 'A']\n",
      " ['Ellie' 'B+']\n",
      " ['Nate' 'B+']\n",
      " ['Aiden' 'B']\n",
      " ['Audrie' 'B']\n",
      " ['Jordan' 'C+']\n",
      " ['Nina' 'C+']\n",
      " ['Jason' 'F']]\n"
     ]
    }
   ],
   "source": [
    "result_ar = np.stack((name_ar_srt,grade_ar))\n",
    "print(result_ar)\n",
    "\n",
    "result_ar_tp = np.transpose(result_ar)\n",
    "print(result_ar_tp)"
   ]
  },
  {
   "cell_type": "markdown",
   "id": "2ebae176",
   "metadata": {},
   "source": [
    "### 2. 성적 데이터 파일 생성 및 판다스를 이용한 성적순 배열, 학점 부여, 성별에 따른 평균 등 통계치 비교"
   ]
  },
  {
   "cell_type": "markdown",
   "id": "da3ac934",
   "metadata": {},
   "source": [
    "* 앞에서 만들었던 array로 csv 파일 생성"
   ]
  },
  {
   "cell_type": "code",
   "execution_count": 30,
   "id": "011db48b",
   "metadata": {},
   "outputs": [
    {
     "name": "stdout",
     "output_type": "stream",
     "text": [
      "[['Ellie' '87']\n",
      " ['Laura' '88']\n",
      " ['Nina' '65']\n",
      " ['Audrie' '74']\n",
      " ['Bridget' '97']\n",
      " ['Jordan' '69']\n",
      " ['Jason' '53']\n",
      " ['Aiden' '77']\n",
      " ['Lukas' '94']\n",
      " ['Nate' '81']]\n"
     ]
    }
   ],
   "source": [
    "data_ar = np.stack((name_ar, score_ar))\n",
    "data_ar_tp = np.transpose(data_ar)\n",
    "print(data_ar_tp)\n",
    "\n",
    "np.savetxt('박형준_2023640044.csv', data_ar_tp, delimiter=',', fmt='%s')"
   ]
  },
  {
   "cell_type": "markdown",
   "id": "07ae9037",
   "metadata": {},
   "source": [
    "* 판다스 불러오기"
   ]
  },
  {
   "cell_type": "code",
   "execution_count": 31,
   "id": "9057ffe8",
   "metadata": {},
   "outputs": [],
   "source": [
    "import pandas as pd"
   ]
  },
  {
   "cell_type": "markdown",
   "id": "0da675a2",
   "metadata": {},
   "source": [
    "* 넘파이로 생성한 csv 불러오면서 칼럼명 추가하기"
   ]
  },
  {
   "cell_type": "code",
   "execution_count": 36,
   "id": "187414e7",
   "metadata": {},
   "outputs": [
    {
     "data": {
      "text/html": [
       "<div>\n",
       "<style scoped>\n",
       "    .dataframe tbody tr th:only-of-type {\n",
       "        vertical-align: middle;\n",
       "    }\n",
       "\n",
       "    .dataframe tbody tr th {\n",
       "        vertical-align: top;\n",
       "    }\n",
       "\n",
       "    .dataframe thead th {\n",
       "        text-align: right;\n",
       "    }\n",
       "</style>\n",
       "<table border=\"1\" class=\"dataframe\">\n",
       "  <thead>\n",
       "    <tr style=\"text-align: right;\">\n",
       "      <th></th>\n",
       "      <th>Name</th>\n",
       "      <th>Score</th>\n",
       "    </tr>\n",
       "  </thead>\n",
       "  <tbody>\n",
       "    <tr>\n",
       "      <th>0</th>\n",
       "      <td>Ellie</td>\n",
       "      <td>87</td>\n",
       "    </tr>\n",
       "    <tr>\n",
       "      <th>1</th>\n",
       "      <td>Laura</td>\n",
       "      <td>88</td>\n",
       "    </tr>\n",
       "    <tr>\n",
       "      <th>2</th>\n",
       "      <td>Nina</td>\n",
       "      <td>65</td>\n",
       "    </tr>\n",
       "    <tr>\n",
       "      <th>3</th>\n",
       "      <td>Audrie</td>\n",
       "      <td>74</td>\n",
       "    </tr>\n",
       "    <tr>\n",
       "      <th>4</th>\n",
       "      <td>Bridget</td>\n",
       "      <td>97</td>\n",
       "    </tr>\n",
       "  </tbody>\n",
       "</table>\n",
       "</div>"
      ],
      "text/plain": [
       "      Name  Score\n",
       "0    Ellie     87\n",
       "1    Laura     88\n",
       "2     Nina     65\n",
       "3   Audrie     74\n",
       "4  Bridget     97"
      ]
     },
     "execution_count": 36,
     "metadata": {},
     "output_type": "execute_result"
    }
   ],
   "source": [
    "data_df = pd.read_csv('박형준_2023640044.csv', names = ['Name', 'Score'])\n",
    "data_df.head()"
   ]
  },
  {
   "cell_type": "markdown",
   "id": "bb55a6ef",
   "metadata": {},
   "source": [
    "* Score 칼럼을 활용해서 성적순 배열"
   ]
  },
  {
   "cell_type": "code",
   "execution_count": 37,
   "id": "7e955d2a",
   "metadata": {
    "scrolled": true
   },
   "outputs": [
    {
     "data": {
      "text/html": [
       "<div>\n",
       "<style scoped>\n",
       "    .dataframe tbody tr th:only-of-type {\n",
       "        vertical-align: middle;\n",
       "    }\n",
       "\n",
       "    .dataframe tbody tr th {\n",
       "        vertical-align: top;\n",
       "    }\n",
       "\n",
       "    .dataframe thead th {\n",
       "        text-align: right;\n",
       "    }\n",
       "</style>\n",
       "<table border=\"1\" class=\"dataframe\">\n",
       "  <thead>\n",
       "    <tr style=\"text-align: right;\">\n",
       "      <th></th>\n",
       "      <th>Name</th>\n",
       "      <th>Score</th>\n",
       "    </tr>\n",
       "  </thead>\n",
       "  <tbody>\n",
       "    <tr>\n",
       "      <th>4</th>\n",
       "      <td>Bridget</td>\n",
       "      <td>97</td>\n",
       "    </tr>\n",
       "    <tr>\n",
       "      <th>8</th>\n",
       "      <td>Lukas</td>\n",
       "      <td>94</td>\n",
       "    </tr>\n",
       "    <tr>\n",
       "      <th>1</th>\n",
       "      <td>Laura</td>\n",
       "      <td>88</td>\n",
       "    </tr>\n",
       "    <tr>\n",
       "      <th>0</th>\n",
       "      <td>Ellie</td>\n",
       "      <td>87</td>\n",
       "    </tr>\n",
       "    <tr>\n",
       "      <th>9</th>\n",
       "      <td>Nate</td>\n",
       "      <td>81</td>\n",
       "    </tr>\n",
       "  </tbody>\n",
       "</table>\n",
       "</div>"
      ],
      "text/plain": [
       "      Name  Score\n",
       "4  Bridget     97\n",
       "8    Lukas     94\n",
       "1    Laura     88\n",
       "0    Ellie     87\n",
       "9     Nate     81"
      ]
     },
     "execution_count": 37,
     "metadata": {},
     "output_type": "execute_result"
    }
   ],
   "source": [
    "data_df_srt = data_df.sort_values(by='Score', ascending = False)\n",
    "data_df_srt.head()"
   ]
  },
  {
   "cell_type": "markdown",
   "id": "1ee344ca",
   "metadata": {},
   "source": [
    "* 앞에서 생성한 학점 array를 dataframe으로 변환"
   ]
  },
  {
   "cell_type": "code",
   "execution_count": 34,
   "id": "f0f08c13",
   "metadata": {},
   "outputs": [
    {
     "data": {
      "text/html": [
       "<div>\n",
       "<style scoped>\n",
       "    .dataframe tbody tr th:only-of-type {\n",
       "        vertical-align: middle;\n",
       "    }\n",
       "\n",
       "    .dataframe tbody tr th {\n",
       "        vertical-align: top;\n",
       "    }\n",
       "\n",
       "    .dataframe thead th {\n",
       "        text-align: right;\n",
       "    }\n",
       "</style>\n",
       "<table border=\"1\" class=\"dataframe\">\n",
       "  <thead>\n",
       "    <tr style=\"text-align: right;\">\n",
       "      <th></th>\n",
       "      <th>Grade</th>\n",
       "    </tr>\n",
       "  </thead>\n",
       "  <tbody>\n",
       "    <tr>\n",
       "      <th>0</th>\n",
       "      <td>A+</td>\n",
       "    </tr>\n",
       "    <tr>\n",
       "      <th>1</th>\n",
       "      <td>A</td>\n",
       "    </tr>\n",
       "    <tr>\n",
       "      <th>2</th>\n",
       "      <td>A</td>\n",
       "    </tr>\n",
       "    <tr>\n",
       "      <th>3</th>\n",
       "      <td>B+</td>\n",
       "    </tr>\n",
       "    <tr>\n",
       "      <th>4</th>\n",
       "      <td>B+</td>\n",
       "    </tr>\n",
       "    <tr>\n",
       "      <th>5</th>\n",
       "      <td>B</td>\n",
       "    </tr>\n",
       "    <tr>\n",
       "      <th>6</th>\n",
       "      <td>B</td>\n",
       "    </tr>\n",
       "    <tr>\n",
       "      <th>7</th>\n",
       "      <td>C+</td>\n",
       "    </tr>\n",
       "    <tr>\n",
       "      <th>8</th>\n",
       "      <td>C+</td>\n",
       "    </tr>\n",
       "    <tr>\n",
       "      <th>9</th>\n",
       "      <td>F</td>\n",
       "    </tr>\n",
       "  </tbody>\n",
       "</table>\n",
       "</div>"
      ],
      "text/plain": [
       "  Grade\n",
       "0    A+\n",
       "1     A\n",
       "2     A\n",
       "3    B+\n",
       "4    B+\n",
       "5     B\n",
       "6     B\n",
       "7    C+\n",
       "8    C+\n",
       "9     F"
      ]
     },
     "execution_count": 34,
     "metadata": {},
     "output_type": "execute_result"
    }
   ],
   "source": [
    "grade_df = pd.DataFrame(grade_ar, columns = ['Grade'])\n",
    "grade_df"
   ]
  },
  {
   "cell_type": "markdown",
   "id": "171e12f9",
   "metadata": {},
   "source": [
    "* 성적부여"
   ]
  },
  {
   "cell_type": "code",
   "execution_count": 38,
   "id": "0c9763e1",
   "metadata": {},
   "outputs": [
    {
     "data": {
      "text/html": [
       "<div>\n",
       "<style scoped>\n",
       "    .dataframe tbody tr th:only-of-type {\n",
       "        vertical-align: middle;\n",
       "    }\n",
       "\n",
       "    .dataframe tbody tr th {\n",
       "        vertical-align: top;\n",
       "    }\n",
       "\n",
       "    .dataframe thead th {\n",
       "        text-align: right;\n",
       "    }\n",
       "</style>\n",
       "<table border=\"1\" class=\"dataframe\">\n",
       "  <thead>\n",
       "    <tr style=\"text-align: right;\">\n",
       "      <th></th>\n",
       "      <th>index</th>\n",
       "      <th>Name</th>\n",
       "      <th>Score</th>\n",
       "      <th>Grade</th>\n",
       "    </tr>\n",
       "  </thead>\n",
       "  <tbody>\n",
       "    <tr>\n",
       "      <th>0</th>\n",
       "      <td>4</td>\n",
       "      <td>Bridget</td>\n",
       "      <td>97</td>\n",
       "      <td>A+</td>\n",
       "    </tr>\n",
       "    <tr>\n",
       "      <th>1</th>\n",
       "      <td>8</td>\n",
       "      <td>Lukas</td>\n",
       "      <td>94</td>\n",
       "      <td>A</td>\n",
       "    </tr>\n",
       "    <tr>\n",
       "      <th>2</th>\n",
       "      <td>1</td>\n",
       "      <td>Laura</td>\n",
       "      <td>88</td>\n",
       "      <td>A</td>\n",
       "    </tr>\n",
       "    <tr>\n",
       "      <th>3</th>\n",
       "      <td>0</td>\n",
       "      <td>Ellie</td>\n",
       "      <td>87</td>\n",
       "      <td>B+</td>\n",
       "    </tr>\n",
       "    <tr>\n",
       "      <th>4</th>\n",
       "      <td>9</td>\n",
       "      <td>Nate</td>\n",
       "      <td>81</td>\n",
       "      <td>B+</td>\n",
       "    </tr>\n",
       "    <tr>\n",
       "      <th>5</th>\n",
       "      <td>7</td>\n",
       "      <td>Aiden</td>\n",
       "      <td>77</td>\n",
       "      <td>B</td>\n",
       "    </tr>\n",
       "    <tr>\n",
       "      <th>6</th>\n",
       "      <td>3</td>\n",
       "      <td>Audrie</td>\n",
       "      <td>74</td>\n",
       "      <td>B</td>\n",
       "    </tr>\n",
       "    <tr>\n",
       "      <th>7</th>\n",
       "      <td>5</td>\n",
       "      <td>Jordan</td>\n",
       "      <td>69</td>\n",
       "      <td>C+</td>\n",
       "    </tr>\n",
       "    <tr>\n",
       "      <th>8</th>\n",
       "      <td>2</td>\n",
       "      <td>Nina</td>\n",
       "      <td>65</td>\n",
       "      <td>C+</td>\n",
       "    </tr>\n",
       "    <tr>\n",
       "      <th>9</th>\n",
       "      <td>6</td>\n",
       "      <td>Jason</td>\n",
       "      <td>53</td>\n",
       "      <td>F</td>\n",
       "    </tr>\n",
       "  </tbody>\n",
       "</table>\n",
       "</div>"
      ],
      "text/plain": [
       "   index     Name  Score Grade\n",
       "0      4  Bridget     97    A+\n",
       "1      8    Lukas     94     A\n",
       "2      1    Laura     88     A\n",
       "3      0    Ellie     87    B+\n",
       "4      9     Nate     81    B+\n",
       "5      7    Aiden     77     B\n",
       "6      3   Audrie     74     B\n",
       "7      5   Jordan     69    C+\n",
       "8      2     Nina     65    C+\n",
       "9      6    Jason     53     F"
      ]
     },
     "execution_count": 38,
     "metadata": {},
     "output_type": "execute_result"
    }
   ],
   "source": [
    "# 인덱스를 reset 하여서 순서에 맞게 성적이 부여되도록 함\n",
    "\n",
    "data_df_srt = data_df_srt.reset_index(inplace=False)\n",
    "data_df_srt\n",
    "\n",
    "result_df = pd.concat([data_df_srt, grade_df], axis=1)\n",
    "result_df"
   ]
  },
  {
   "cell_type": "code",
   "execution_count": 40,
   "id": "6415b592",
   "metadata": {},
   "outputs": [
    {
     "data": {
      "text/html": [
       "<div>\n",
       "<style scoped>\n",
       "    .dataframe tbody tr th:only-of-type {\n",
       "        vertical-align: middle;\n",
       "    }\n",
       "\n",
       "    .dataframe tbody tr th {\n",
       "        vertical-align: top;\n",
       "    }\n",
       "\n",
       "    .dataframe thead th {\n",
       "        text-align: right;\n",
       "    }\n",
       "</style>\n",
       "<table border=\"1\" class=\"dataframe\">\n",
       "  <thead>\n",
       "    <tr style=\"text-align: right;\">\n",
       "      <th></th>\n",
       "      <th>Name</th>\n",
       "      <th>Grade</th>\n",
       "    </tr>\n",
       "  </thead>\n",
       "  <tbody>\n",
       "    <tr>\n",
       "      <th>0</th>\n",
       "      <td>Bridget</td>\n",
       "      <td>A+</td>\n",
       "    </tr>\n",
       "    <tr>\n",
       "      <th>1</th>\n",
       "      <td>Lukas</td>\n",
       "      <td>A</td>\n",
       "    </tr>\n",
       "    <tr>\n",
       "      <th>2</th>\n",
       "      <td>Laura</td>\n",
       "      <td>A</td>\n",
       "    </tr>\n",
       "    <tr>\n",
       "      <th>3</th>\n",
       "      <td>Ellie</td>\n",
       "      <td>B+</td>\n",
       "    </tr>\n",
       "    <tr>\n",
       "      <th>4</th>\n",
       "      <td>Nate</td>\n",
       "      <td>B+</td>\n",
       "    </tr>\n",
       "    <tr>\n",
       "      <th>5</th>\n",
       "      <td>Aiden</td>\n",
       "      <td>B</td>\n",
       "    </tr>\n",
       "    <tr>\n",
       "      <th>6</th>\n",
       "      <td>Audrie</td>\n",
       "      <td>B</td>\n",
       "    </tr>\n",
       "    <tr>\n",
       "      <th>7</th>\n",
       "      <td>Jordan</td>\n",
       "      <td>C+</td>\n",
       "    </tr>\n",
       "    <tr>\n",
       "      <th>8</th>\n",
       "      <td>Nina</td>\n",
       "      <td>C+</td>\n",
       "    </tr>\n",
       "    <tr>\n",
       "      <th>9</th>\n",
       "      <td>Jason</td>\n",
       "      <td>F</td>\n",
       "    </tr>\n",
       "  </tbody>\n",
       "</table>\n",
       "</div>"
      ],
      "text/plain": [
       "      Name Grade\n",
       "0  Bridget    A+\n",
       "1    Lukas     A\n",
       "2    Laura     A\n",
       "3    Ellie    B+\n",
       "4     Nate    B+\n",
       "5    Aiden     B\n",
       "6   Audrie     B\n",
       "7   Jordan    C+\n",
       "8     Nina    C+\n",
       "9    Jason     F"
      ]
     },
     "execution_count": 40,
     "metadata": {},
     "output_type": "execute_result"
    }
   ],
   "source": [
    "# 이름과 성적만 나오도록 drop 활용\n",
    "\n",
    "result_df_NG = result_df.drop(['index','Score'], axis=1)\n",
    "result_df_NG"
   ]
  },
  {
   "cell_type": "markdown",
   "id": "2ff7b47c",
   "metadata": {},
   "source": [
    "* 성별에 따른 평균"
   ]
  },
  {
   "cell_type": "code",
   "execution_count": 44,
   "id": "e949907a",
   "metadata": {},
   "outputs": [
    {
     "data": {
      "text/html": [
       "<div>\n",
       "<style scoped>\n",
       "    .dataframe tbody tr th:only-of-type {\n",
       "        vertical-align: middle;\n",
       "    }\n",
       "\n",
       "    .dataframe tbody tr th {\n",
       "        vertical-align: top;\n",
       "    }\n",
       "\n",
       "    .dataframe thead th {\n",
       "        text-align: right;\n",
       "    }\n",
       "</style>\n",
       "<table border=\"1\" class=\"dataframe\">\n",
       "  <thead>\n",
       "    <tr style=\"text-align: right;\">\n",
       "      <th></th>\n",
       "      <th>Name</th>\n",
       "      <th>Score</th>\n",
       "      <th>Gender</th>\n",
       "    </tr>\n",
       "  </thead>\n",
       "  <tbody>\n",
       "    <tr>\n",
       "      <th>0</th>\n",
       "      <td>Ellie</td>\n",
       "      <td>87</td>\n",
       "      <td>0</td>\n",
       "    </tr>\n",
       "    <tr>\n",
       "      <th>1</th>\n",
       "      <td>Laura</td>\n",
       "      <td>88</td>\n",
       "      <td>0</td>\n",
       "    </tr>\n",
       "    <tr>\n",
       "      <th>2</th>\n",
       "      <td>Nina</td>\n",
       "      <td>65</td>\n",
       "      <td>0</td>\n",
       "    </tr>\n",
       "    <tr>\n",
       "      <th>3</th>\n",
       "      <td>Audrie</td>\n",
       "      <td>74</td>\n",
       "      <td>0</td>\n",
       "    </tr>\n",
       "    <tr>\n",
       "      <th>4</th>\n",
       "      <td>Bridget</td>\n",
       "      <td>97</td>\n",
       "      <td>0</td>\n",
       "    </tr>\n",
       "    <tr>\n",
       "      <th>5</th>\n",
       "      <td>Jordan</td>\n",
       "      <td>69</td>\n",
       "      <td>0</td>\n",
       "    </tr>\n",
       "    <tr>\n",
       "      <th>6</th>\n",
       "      <td>Jason</td>\n",
       "      <td>53</td>\n",
       "      <td>0</td>\n",
       "    </tr>\n",
       "    <tr>\n",
       "      <th>7</th>\n",
       "      <td>Aiden</td>\n",
       "      <td>77</td>\n",
       "      <td>0</td>\n",
       "    </tr>\n",
       "    <tr>\n",
       "      <th>8</th>\n",
       "      <td>Lukas</td>\n",
       "      <td>94</td>\n",
       "      <td>0</td>\n",
       "    </tr>\n",
       "    <tr>\n",
       "      <th>9</th>\n",
       "      <td>Nate</td>\n",
       "      <td>81</td>\n",
       "      <td>0</td>\n",
       "    </tr>\n",
       "  </tbody>\n",
       "</table>\n",
       "</div>"
      ],
      "text/plain": [
       "      Name  Score  Gender\n",
       "0    Ellie     87       0\n",
       "1    Laura     88       0\n",
       "2     Nina     65       0\n",
       "3   Audrie     74       0\n",
       "4  Bridget     97       0\n",
       "5   Jordan     69       0\n",
       "6    Jason     53       0\n",
       "7    Aiden     77       0\n",
       "8    Lukas     94       0\n",
       "9     Nate     81       0"
      ]
     },
     "execution_count": 44,
     "metadata": {},
     "output_type": "execute_result"
    }
   ],
   "source": [
    "data_df['Gender'] = 0\n",
    "data_df"
   ]
  },
  {
   "cell_type": "code",
   "execution_count": null,
   "id": "0e3f4d51",
   "metadata": {},
   "outputs": [],
   "source": []
  }
 ],
 "metadata": {
  "kernelspec": {
   "display_name": "Python 3 (ipykernel)",
   "language": "python",
   "name": "python3"
  },
  "language_info": {
   "codemirror_mode": {
    "name": "ipython",
    "version": 3
   },
   "file_extension": ".py",
   "mimetype": "text/x-python",
   "name": "python",
   "nbconvert_exporter": "python",
   "pygments_lexer": "ipython3",
   "version": "3.10.9"
  }
 },
 "nbformat": 4,
 "nbformat_minor": 5
}
